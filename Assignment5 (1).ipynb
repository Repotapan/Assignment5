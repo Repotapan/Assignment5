{
 "cells": [
  {
   "cell_type": "markdown",
   "id": "e00baa1f-d402-47de-b133-497da3be1272",
   "metadata": {},
   "source": [
    "1)"
   ]
  },
  {
   "cell_type": "code",
   "execution_count": 1,
   "id": "0c10d3dd-c19e-4912-ad7a-08b7d3c4de6b",
   "metadata": {},
   "outputs": [
    {
     "name": "stdout",
     "output_type": "stream",
     "text": [
      "[('Virat Kohli', 24936), ('Jack kallis', 25534), ('Ricky Ponting', 27483), ('sachin Tendulkar', 34357)]\n"
     ]
    }
   ],
   "source": [
    "l=[(\"sachin Tendulkar\",34357),(\"Ricky Ponting\",27483),(\"Jack kallis\",25534),(\"Virat Kohli\",24936)]\n",
    "l.sort(key=lambda x:x[1])\n",
    "print(l)"
   ]
  },
  {
   "cell_type": "markdown",
   "id": "ba735926-1b8e-480b-9289-14f6e5d47a7c",
   "metadata": {},
   "source": [
    "2)"
   ]
  },
  {
   "cell_type": "code",
   "execution_count": 3,
   "id": "bad5cd2b-c1ce-4dba-a80e-a0df2777dc7a",
   "metadata": {},
   "outputs": [
    {
     "data": {
      "text/plain": [
       "[1, 4, 9, 16, 25, 36, 49, 64, 81, 100]"
      ]
     },
     "execution_count": 3,
     "metadata": {},
     "output_type": "execute_result"
    }
   ],
   "source": [
    "l1=[1,2,3,4,5,6,7,8,9,10]\n",
    "list(map(lambda x : x**2,l1))\n"
   ]
  },
  {
   "cell_type": "markdown",
   "id": "95f3ca94-2ef5-44d5-9832-c32bde461dca",
   "metadata": {},
   "source": [
    "3)"
   ]
  },
  {
   "cell_type": "code",
   "execution_count": 7,
   "id": "76544dda-b414-4498-be63-0421ecfdf0c3",
   "metadata": {},
   "outputs": [
    {
     "data": {
      "text/plain": [
       "('1', '2', '3', '4', '5', '6', '7', '8', '9', '10')"
      ]
     },
     "execution_count": 7,
     "metadata": {},
     "output_type": "execute_result"
    }
   ],
   "source": [
    "s=[1,2,3,4,5,6,7,8,9,10]\n",
    "tuple(map(lambda x : str(x),s))"
   ]
  },
  {
   "cell_type": "markdown",
   "id": "95d3551a-c691-456c-9c20-946ac6df71be",
   "metadata": {},
   "source": [
    "4)"
   ]
  },
  {
   "cell_type": "code",
   "execution_count": 15,
   "id": "1a74cf3c-1fc3-40d8-98d0-68c37e8a247e",
   "metadata": {},
   "outputs": [
    {
     "data": {
      "text/plain": [
       "325"
      ]
     },
     "execution_count": 15,
     "metadata": {},
     "output_type": "execute_result"
    }
   ],
   "source": [
    "from functools import reduce\n",
    "l=range(1,26)\n",
    "reduce(lambda x,y : x+y,l)"
   ]
  },
  {
   "cell_type": "markdown",
   "id": "dff97562-3935-44df-93b0-fbf01d18735e",
   "metadata": {},
   "source": [
    "5)"
   ]
  },
  {
   "cell_type": "code",
   "execution_count": 16,
   "id": "f9bacb69-b1b7-40c7-a378-8a59018409ae",
   "metadata": {},
   "outputs": [
    {
     "data": {
      "text/plain": [
       "[2, 3, 6, 9, 27, 60, 90, 120, 46]"
      ]
     },
     "execution_count": 16,
     "metadata": {},
     "output_type": "execute_result"
    }
   ],
   "source": [
    "l3=[2,3,6,9,27,60,90,120,55,46]\n",
    "list(filter(lambda x : x %2 == 0 or x%3 ==0,l3))\n"
   ]
  },
  {
   "cell_type": "markdown",
   "id": "6e510832-2e3c-4bd7-8b74-deb9bf841b18",
   "metadata": {},
   "source": [
    "6)"
   ]
  },
  {
   "cell_type": "code",
   "execution_count": 17,
   "id": "0ddabe76-fcbd-4358-94fa-c2893b15caac",
   "metadata": {},
   "outputs": [
    {
     "name": "stdout",
     "output_type": "stream",
     "text": [
      "Palindromes in the list: ['php', 'aba', 'radar', 'level']\n"
     ]
    }
   ],
   "source": [
    "\n",
    "strings = [\"python\", \"php\", \"aba\", \"radar\", \"level\"]\n",
    "\n",
    "palindromes = list(filter(lambda x: x == x[::-1], strings))\n",
    "\n",
    "print(\"Palindromes in the list:\", palindromes)\n"
   ]
  },
  {
   "cell_type": "code",
   "execution_count": null,
   "id": "0495b103-bb75-4463-a115-0186f724f147",
   "metadata": {},
   "outputs": [],
   "source": []
  }
 ],
 "metadata": {
  "kernelspec": {
   "display_name": "Python 3 (ipykernel)",
   "language": "python",
   "name": "python3"
  },
  "language_info": {
   "codemirror_mode": {
    "name": "ipython",
    "version": 3
   },
   "file_extension": ".py",
   "mimetype": "text/x-python",
   "name": "python",
   "nbconvert_exporter": "python",
   "pygments_lexer": "ipython3",
   "version": "3.10.8"
  }
 },
 "nbformat": 4,
 "nbformat_minor": 5
}
